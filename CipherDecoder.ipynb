{
 "cells": [
  {
   "cell_type": "markdown",
   "id": "7f67e7af",
   "metadata": {},
   "source": [
    "# NLP Cipher Decoder #"
   ]
  },
  {
   "cell_type": "markdown",
   "id": "46b5c242",
   "metadata": {},
   "source": [
    "## Import files & APIs ##"
   ]
  },
  {
   "cell_type": "code",
   "execution_count": 1,
   "id": "886b820b",
   "metadata": {},
   "outputs": [
    {
     "name": "stdout",
     "output_type": "stream",
     "text": [
      "File 'moby_dick.txt' already there; not retrieving.\r\n",
      "\r\n"
     ]
    }
   ],
   "source": [
    "!wget -nc https://lazyprogrammer.me/course_files/moby_dick.txt"
   ]
  },
  {
   "cell_type": "code",
   "execution_count": 2,
   "id": "ea2a3ead",
   "metadata": {},
   "outputs": [],
   "source": [
    "import numpy as np\n",
    "import matplotlib.pyplot as plt\n",
    "\n",
    "import string\n",
    "import random\n",
    "import re"
   ]
  },
  {
   "cell_type": "code",
   "execution_count": 3,
   "id": "f8439239",
   "metadata": {},
   "outputs": [
    {
     "name": "stdout",
     "output_type": "stream",
     "text": [
      "﻿CHAPTER 1. Loomings.\r",
      "\r\n",
      "\r",
      "\r\n",
      "Call me Ishmael. Some years ago—never mind how long precisely—having\r",
      "\r\n",
      "little or no money in my purse, and nothing particular to interest me\r",
      "\r\n",
      "on shore, I thought I would sail about a little and see the watery part\r",
      "\r\n",
      "of the world. It is a way I have of driving off the spleen and\r",
      "\r\n",
      "regulating the circulation. Whenever I find myself growing grim about\r",
      "\r\n",
      "the mouth; whenever it is a damp, drizzly November in my soul; whenever\r",
      "\r\n",
      "I find myself involuntarily pausing before coffin warehouses, and\r",
      "\r\n",
      "bringing up the rear of every funeral I meet; and especially whenever\r",
      "\r\n"
     ]
    }
   ],
   "source": [
    "!head moby_dick.txt"
   ]
  },
  {
   "cell_type": "code",
   "execution_count": 4,
   "id": "6ec2d7e7",
   "metadata": {},
   "outputs": [],
   "source": [
    "original_message = '''I then lounged down the street and found,\n",
    "as I expected, that there was a mews in a lane which runs down\n",
    "by one wall of the garden. I lent the ostlers a hand in rubbing\n",
    "down their horses, and received in exchange twopence, a glass of\n",
    "half-and-half, two fills of shag tobacco, and as much information\n",
    "as I could desire about Miss Adler, to say nothing of half a dozen\n",
    "other people in the neighbourhood in whom I was not in the least\n",
    "interested, but whose biographies I was compelled to listen to.\n",
    "'''"
   ]
  },
  {
   "cell_type": "markdown",
   "id": "4f36c893",
   "metadata": {},
   "source": [
    "## Generate random substitution cipher ##"
   ]
  },
  {
   "cell_type": "code",
   "execution_count": 5,
   "id": "86ddfe20",
   "metadata": {},
   "outputs": [],
   "source": [
    "letters1 = list(string.ascii_lowercase)\n",
    "letters2 = list(string.ascii_lowercase)\n",
    "\n",
    "true_mapping = {}\n",
    "\n",
    "random.shuffle(letters2)\n",
    "\n",
    "for k, v in zip(letters1, letters2):\n",
    "    true_mapping[k] = v"
   ]
  },
  {
   "cell_type": "markdown",
   "id": "00da44e6",
   "metadata": {},
   "source": [
    "## Create character-level language model ##"
   ]
  },
  {
   "cell_type": "code",
   "execution_count": 6,
   "id": "a8d6b584",
   "metadata": {},
   "outputs": [],
   "source": [
    "# Initialize initial state distribution\n",
    "pi = np.ones(26)\n",
    "\n",
    "# Initialize Markov matrix\n",
    "M = np.ones((26, 26))"
   ]
  },
  {
   "cell_type": "code",
   "execution_count": 7,
   "id": "5c738ca0",
   "metadata": {},
   "outputs": [],
   "source": [
    "# Functions to update pi and M\n",
    "def update_transition(ch1, ch2):\n",
    "    i = ord(ch1) - ord('a')\n",
    "    j = ord(ch2) - ord('a')\n",
    "    M[i, j] += 1\n",
    "\n",
    "def update_pi(ch):\n",
    "    i = ord(ch) - ord('a')\n",
    "    pi[i] += 1"
   ]
  },
  {
   "cell_type": "code",
   "execution_count": 8,
   "id": "056af3bb",
   "metadata": {},
   "outputs": [],
   "source": [
    "# Function that gets the log-probability of a word\n",
    "def get_word_prob(word):\n",
    "    i = ord(word[0]) - ord('a')\n",
    "    logp = np.log(pi[i])\n",
    "    \n",
    "    for ch in word[1:]:\n",
    "        j = ord(ch) - ord('a')\n",
    "        logp += np.log(M[i, j])\n",
    "        i = j\n",
    "    return logp"
   ]
  },
  {
   "cell_type": "code",
   "execution_count": 9,
   "id": "565aebd4",
   "metadata": {},
   "outputs": [],
   "source": [
    "# Function that gets the probability of a sequence of words\n",
    "def get_sequence_prob(words):\n",
    "    if type(words) == str:\n",
    "        words = words.split()\n",
    "    \n",
    "    logp = 0\n",
    "    for word in words:\n",
    "        logp += get_word_prob(word)\n",
    "    return logp"
   ]
  },
  {
   "cell_type": "code",
   "execution_count": 10,
   "id": "bae285a8",
   "metadata": {},
   "outputs": [],
   "source": [
    "# Fill in unigrams and bigrams\n",
    "regex = re.compile('[^a-zA-Z]')\n",
    "\n",
    "for line in open(\"moby_dick.txt\", \"r\"):\n",
    "    line = line.rstrip().lower()\n",
    "    if line:\n",
    "        line = regex.sub(' ', line)\n",
    "        tokens = line.split()\n",
    "        for token in tokens:\n",
    "            ch0 = token[0]\n",
    "            update_pi(ch0)\n",
    "            \n",
    "            for ch1 in token[1:]:\n",
    "                update_transition(ch0, ch1)\n",
    "                ch0 = ch1"
   ]
  },
  {
   "cell_type": "code",
   "execution_count": 11,
   "id": "575f525f",
   "metadata": {},
   "outputs": [],
   "source": [
    "# Normalize unigrams and bigrams\n",
    "pi /= pi.sum()\n",
    "M /= M.sum(axis=1, keepdims=True)"
   ]
  },
  {
   "cell_type": "code",
   "execution_count": 12,
   "id": "5a175af7",
   "metadata": {},
   "outputs": [],
   "source": [
    "# Function that returns the log likelihood of an input cipher\n",
    "def log_likelihood(message, cipher):\n",
    "    total_prob = 0\n",
    "    for line in message:\n",
    "        if line:\n",
    "            total_prob += get_sequence_prob(line)\n",
    "    return total_prob"
   ]
  },
  {
   "cell_type": "markdown",
   "id": "e1a4d53d",
   "metadata": {},
   "source": [
    "## Encoding & decoding functions ##"
   ]
  },
  {
   "cell_type": "code",
   "execution_count": 13,
   "id": "25205e51",
   "metadata": {},
   "outputs": [],
   "source": [
    "def encode(msg):\n",
    "    encoded_msg = \"\"\n",
    "    for ch in msg.lower():\n",
    "        encoded_msg += true_mapping[ch] if ch in true_mapping else ' '\n",
    "    return encoded_msg"
   ]
  },
  {
   "cell_type": "code",
   "execution_count": 14,
   "id": "ce67c02b",
   "metadata": {},
   "outputs": [],
   "source": [
    "def decode(msg, word_map):\n",
    "    decoded_msg = \"\"\n",
    "    for ch in msg:\n",
    "        decoded_msg += word_map[ch] if ch in word_map else ch\n",
    "    return decoded_msg"
   ]
  },
  {
   "cell_type": "markdown",
   "id": "43e495e4",
   "metadata": {},
   "source": [
    "## Genetic algorithm ##"
   ]
  },
  {
   "cell_type": "code",
   "execution_count": 15,
   "id": "8974fbd3",
   "metadata": {},
   "outputs": [],
   "source": [
    "# Generates a given number of random ciphers\n",
    "def get_many_random_dna(num):\n",
    "    dna_pool = []\n",
    "    for _ in range(num):\n",
    "        dna = list(string.ascii_lowercase)\n",
    "        random.shuffle(dna)\n",
    "        dna_pool.append(dna)\n",
    "    return dna_pool"
   ]
  },
  {
   "cell_type": "code",
   "execution_count": 16,
   "id": "30e1627e",
   "metadata": {},
   "outputs": [],
   "source": [
    "# Appends a given number of offspring with different mutations to an existing pool of ciphers\n",
    "def create_offspring(dna_pool, num_offspring):\n",
    "    offspring = []\n",
    "    \n",
    "    for dna in dna_pool:\n",
    "        for _ in range(num_offspring):\n",
    "            copy = dna.copy()\n",
    "            j = np.random.randint(len(copy))\n",
    "            k = np.random.randint(len(copy))\n",
    "            \n",
    "            temp = copy[j]\n",
    "            copy[j] = copy[k]\n",
    "            copy[k] = temp\n",
    "            offspring.append(copy)\n",
    "\n",
    "    return offspring + dna_pool"
   ]
  },
  {
   "cell_type": "code",
   "execution_count": 17,
   "id": "bc8ec6d7",
   "metadata": {},
   "outputs": [],
   "source": [
    "def find_best_cipher(encoded_msg, num_iters):\n",
    "    dna_pool = get_many_random_dna(20)\n",
    "    scores = np.zeros(num_iters)\n",
    "    best_dna = None\n",
    "    best_map = None\n",
    "    best_score = float(\"-inf\")\n",
    "    for i in range(num_iters):\n",
    "        if i > 0:\n",
    "            dna_pool = create_offspring(dna_pool, 3)\n",
    "\n",
    "        dna2score = {}\n",
    "        for dna in dna_pool:\n",
    "            current_map = {}\n",
    "            for k, v in zip(letters1, dna):\n",
    "                current_map[k] = v\n",
    "            \n",
    "            decoded_msg = decode(encoded_msg, current_map)\n",
    "            score = get_sequence_prob(decoded_msg)\n",
    "            \n",
    "            dna2score[''.join(dna)] = score\n",
    "            \n",
    "            if score > best_score:\n",
    "                best_dna = dna\n",
    "                best_map = current_map\n",
    "                best_score = score\n",
    "        \n",
    "        scores[i] = np.mean(list(dna2score.values()))\n",
    "        \n",
    "        sorted_dna = sorted(dna2score.items(), key=lambda x: x[1], reverse=True)\n",
    "        dna_pool = [list(k) for k, v in sorted_dna[:5]]\n",
    "        \n",
    "        if i % 200 == 0:\n",
    "            print(\"iter:\", i, \"score:\", scores[i], \"best so far:\", best_score)\n",
    "    return best_map, scores"
   ]
  },
  {
   "cell_type": "markdown",
   "id": "a3aade7f",
   "metadata": {},
   "source": [
    "## Test predicted cipher ##"
   ]
  },
  {
   "cell_type": "code",
   "execution_count": 18,
   "id": "c64a1afc",
   "metadata": {},
   "outputs": [],
   "source": [
    "encoded_msg = encode(original_message)"
   ]
  },
  {
   "cell_type": "code",
   "execution_count": 19,
   "id": "b7c1b05d",
   "metadata": {},
   "outputs": [
    {
     "name": "stdout",
     "output_type": "stream",
     "text": [
      "iter: 0 score: -2132.0438149508577 best so far: -1914.3982016073169\n",
      "iter: 200 score: -1063.7650869548438 best so far: -949.0217493937694\n",
      "iter: 400 score: -1043.528134903911 best so far: -929.5929889514528\n",
      "iter: 600 score: -1052.631953699596 best so far: -929.5929889514528\n",
      "iter: 800 score: -1049.2077133677985 best so far: -929.5929889514528\n"
     ]
    }
   ],
   "source": [
    "predicted_cipher, scores = find_best_cipher(encoded_msg, 1000)"
   ]
  },
  {
   "cell_type": "code",
   "execution_count": 20,
   "id": "2e5b853b",
   "metadata": {},
   "outputs": [],
   "source": [
    "decoded_msg = decode(encoded_msg, predicted_cipher)"
   ]
  },
  {
   "cell_type": "code",
   "execution_count": 21,
   "id": "1d6d5e8d",
   "metadata": {},
   "outputs": [
    {
     "name": "stdout",
     "output_type": "stream",
     "text": [
      "Original message:\n",
      " I then lounged down the street and found,\n",
      "as I expected, that there was a mews in a lane which runs down\n",
      "by one wall of the garden. I lent the ostlers a hand in rubbing\n",
      "down their horses, and received in exchange twopence, a glass of\n",
      "half-and-half, two fills of shag tobacco, and as much information\n",
      "as I could desire about Miss Adler, to say nothing of half a dozen\n",
      "other people in the neighbourhood in whom I was not in the least\n",
      "interested, but whose biographies I was compelled to listen to.\n",
      "\n",
      "Encoded message:\n",
      " f dbvw zkxwnvi ikrw dbv cdevvd jwi ukxwi  jc f valvydvi  dbjd dbvev rjc j mvrc fw j zjwv rbfyb exwc ikrw to kwv rjzz ku dbv njeivw  f zvwd dbv kcdzvec j bjwi fw exttfwn ikrw dbvfe bkecvc  jwi evyvfqvi fw vaybjwnv drklvwyv  j nzjcc ku bjzu jwi bjzu  drk ufzzc ku cbjn dktjyyk  jwi jc mxyb fwukemjdfkw jc f ykxzi ivcfev jtkxd mfcc jizve  dk cjo wkdbfwn ku bjzu j ikgvw kdbve lvklzv fw dbv wvfnbtkxebkki fw rbkm f rjc wkd fw dbv zvjcd fwdvevcdvi  txd rbkcv tfknejlbfvc f rjc ykmlvzzvi dk zfcdvw dk   \n",
      "\n",
      "Decoded message:\n",
      " i then lounged down the street and found  as i expected  that there was a mews in a lane which runs down by one wall of the garden  i lent the ostlers a hand in rubbing down their horses  and received in exchange twopence  a glass of half and half  two fills of shag tobacco  and as much information as i could desire about miss adler  to say nothing of half a doken other people in the neighbourhood in whom i was not in the least interested  but whose biographies i was compelled to listen to   \n",
      "\n"
     ]
    }
   ],
   "source": [
    "print(\"Original message:\\n\", original_message)\n",
    "print(\"Encoded message:\\n\", encoded_msg, \"\\n\")\n",
    "print(\"Decoded message:\\n\", decoded_msg, \"\\n\")"
   ]
  },
  {
   "cell_type": "markdown",
   "id": "cd634f21",
   "metadata": {},
   "source": [
    "## Analysis ##"
   ]
  },
  {
   "cell_type": "code",
   "execution_count": 22,
   "id": "c0d88598",
   "metadata": {},
   "outputs": [
    {
     "name": "stdout",
     "output_type": "stream",
     "text": [
      "LL of decoded message: -929.5929889514528\n",
      "LL of true message: -933.0339420615785\n",
      "\n",
      "Wrong letters:\n",
      "true: k, pred: z\n",
      "true: z, pred: k\n"
     ]
    }
   ],
   "source": [
    "# Find log-likelihood of decoded message and original message\n",
    "print(\"LL of decoded message:\", get_sequence_prob(decoded_msg))\n",
    "print(\"LL of true message:\", get_sequence_prob(regex.sub(' ', original_message.lower())))\n",
    "print()\n",
    "\n",
    "# Find letters that are wrong in predicted cipher\n",
    "print(\"Wrong letters:\")\n",
    "for true, v in true_mapping.items():\n",
    "    pred = predicted_cipher[v]\n",
    "    if true != pred:\n",
    "        print(\"true: %s, pred: %s\" % (true, pred))"
   ]
  },
  {
   "cell_type": "code",
   "execution_count": 23,
   "id": "785bdaa4",
   "metadata": {},
   "outputs": [
    {
     "data": {
      "image/png": "[encoded data removed]",
      "text/plain": [
       "<Figure size 640x480 with 1 Axes>"
      ]
     },
     "metadata": {},
     "output_type": "display_data"
    }
   ],
   "source": [
    "plt.plot(scores)\n",
    "plt.show()"
   ]
  },
  {
   "cell_type": "code",
   "execution_count": null,
   "id": "45d1ed50",
   "metadata": {},
   "outputs": [],
   "source": []
  }
 ],
 "metadata": {
  "kernelspec": {
   "display_name": "Python 3 (ipykernel)",
   "language": "python",
   "name": "python3"
  },
  "language_info": {
   "codemirror_mode": {
    "name": "ipython",
    "version": 3
   },
   "file_extension": ".py",
   "mimetype": "text/x-python",
   "name": "python",
   "nbconvert_exporter": "python",
   "pygments_lexer": "ipython3",
   "version": "3.8.8"
  }
 },
 "nbformat": 4,
 "nbformat_minor": 5
}
