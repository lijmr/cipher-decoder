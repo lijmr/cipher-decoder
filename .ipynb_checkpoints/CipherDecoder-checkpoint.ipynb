{
 "cells": [
  {
   "cell_type": "markdown",
   "id": "7f67e7af",
   "metadata": {},
   "source": [
    "# NLP Cipher Decoder #"
   ]
  },
  {
   "cell_type": "markdown",
   "id": "46b5c242",
   "metadata": {},
   "source": [
    "## Import files & APIs ##"
   ]
  },
  {
   "cell_type": "code",
   "execution_count": 1,
   "id": "886b820b",
   "metadata": {},
   "outputs": [
    {
     "name": "stdout",
     "output_type": "stream",
     "text": [
      "File 'moby_dick.txt' already there; not retrieving.\r\n",
      "\r\n"
     ]
    }
   ],
   "source": [
    "!wget -nc https://lazyprogrammer.me/course_files/moby_dick.txt"
   ]
  },
  {
   "cell_type": "code",
   "execution_count": 2,
   "id": "ea2a3ead",
   "metadata": {},
   "outputs": [],
   "source": [
    "import numpy as np\n",
    "import string\n",
    "import random\n",
    "import re\n",
    "import textwrap"
   ]
  },
  {
   "cell_type": "code",
   "execution_count": 3,
   "id": "f8439239",
   "metadata": {},
   "outputs": [
    {
     "name": "stdout",
     "output_type": "stream",
     "text": [
      "﻿CHAPTER 1. Loomings.\r",
      "\r\n",
      "\r",
      "\r\n",
      "Call me Ishmael. Some years ago—never mind how long precisely—having\r",
      "\r\n",
      "little or no money in my purse, and nothing particular to interest me\r",
      "\r\n",
      "on shore, I thought I would sail about a little and see the watery part\r",
      "\r\n",
      "of the world. It is a way I have of driving off the spleen and\r",
      "\r\n",
      "regulating the circulation. Whenever I find myself growing grim about\r",
      "\r\n",
      "the mouth; whenever it is a damp, drizzly November in my soul; whenever\r",
      "\r\n",
      "I find myself involuntarily pausing before coffin warehouses, and\r",
      "\r\n",
      "bringing up the rear of every funeral I meet; and especially whenever\r",
      "\r\n"
     ]
    }
   ],
   "source": [
    "!head moby_dick.txt"
   ]
  },
  {
   "cell_type": "code",
   "execution_count": 4,
   "id": "6ec2d7e7",
   "metadata": {},
   "outputs": [],
   "source": [
    "original_message = '''I then lounged down the street and found,\n",
    "as I expected, that there was a mews in a lane which runs down\n",
    "by one wall of the garden. I lent the ostlers a hand in rubbing\n",
    "down their horses, and received in exchange twopence, a glass of\n",
    "half-and-half, two fills of shag tobacco, and as much information\n",
    "as I could desire about Miss Adler, to say nothing of half a dozen\n",
    "other people in the neighbourhood in whom I was not in the least\n",
    "interested, but whose biographies I was compelled to listen to.\n",
    "'''"
   ]
  },
  {
   "cell_type": "markdown",
   "id": "4f36c893",
   "metadata": {},
   "source": [
    "## Generate random substitution cipher ##"
   ]
  },
  {
   "cell_type": "code",
   "execution_count": 5,
   "id": "86ddfe20",
   "metadata": {},
   "outputs": [],
   "source": [
    "letters1 = list(string.ascii_lowercase)\n",
    "letters2 = list(string.ascii_lowercase)\n",
    "\n",
    "true_mapping = {}\n",
    "\n",
    "random.shuffle(letters2)\n",
    "\n",
    "for k, v in zip(letters1, letters2):\n",
    "    true_mapping[k] = v"
   ]
  },
  {
   "cell_type": "markdown",
   "id": "00da44e6",
   "metadata": {},
   "source": [
    "## Create character-level language model ##"
   ]
  },
  {
   "cell_type": "code",
   "execution_count": 6,
   "id": "a8d6b584",
   "metadata": {},
   "outputs": [],
   "source": [
    "# Initialize initial state distribution\n",
    "pi = np.ones(26)\n",
    "\n",
    "# Initialize Markov matrix\n",
    "M = np.ones((26, 26))"
   ]
  },
  {
   "cell_type": "code",
   "execution_count": 7,
   "id": "b0dc24e7",
   "metadata": {},
   "outputs": [],
   "source": [
    "# Functions to update pi and M\n",
    "def update_trasition(ch1, ch2):\n",
    "    i = ord(ch1) - ord('a')\n",
    "    j = ord(ch2) - ord('a')\n",
    "    M[i, j] += 1\n",
    "\n",
    "def update_pi(ch):\n",
    "    i = ord(ch) - ord('a')\n",
    "    pi[i] += 1"
   ]
  },
  {
   "cell_type": "code",
   "execution_count": 8,
   "id": "c131fd2e",
   "metadata": {},
   "outputs": [],
   "source": [
    "# Function that gets the log-probability of a word\n",
    "def get_word_prob(word):\n",
    "    logp = 0\n",
    "    ch0 = None\n",
    "    for ch1 in word:\n",
    "#         if ch1 in letters1:\n",
    "        if ch0 == None:\n",
    "            i = ord(ch1) - ord('a')\n",
    "            logp += np.log(pi[i])\n",
    "        else:\n",
    "            j = ord(ch1) - ord('a')\n",
    "            logp += np.log(M[i, j])\n",
    "        ch0 = ch1\n",
    "    return logp"
   ]
  },
  {
   "cell_type": "code",
   "execution_count": 9,
   "id": "01123aaa",
   "metadata": {},
   "outputs": [],
   "source": [
    "# Function that gets the probability of a sequence of words\n",
    "def get_sequence_prob(words):\n",
    "    if type(words) == str:\n",
    "        words = words.split()\n",
    "    \n",
    "    logp = 0\n",
    "    for word in words:\n",
    "        logp += get_word_prob(word)\n",
    "    return logp"
   ]
  },
  {
   "cell_type": "code",
   "execution_count": 10,
   "id": "14260515",
   "metadata": {},
   "outputs": [
    {
     "ename": "IndexError",
     "evalue": "index 65182 is out of bounds for axis 0 with size 26",
     "output_type": "error",
     "traceback": [
      "\u001b[0;31m---------------------------------------------------------------------------\u001b[0m",
      "\u001b[0;31mIndexError\u001b[0m                                Traceback (most recent call last)",
      "\u001b[0;32m/var/folders/dn/qw32n23j447c8wvwm7d77t400000gn/T/ipykernel_4078/740370335.py\u001b[0m in \u001b[0;36m<module>\u001b[0;34m\u001b[0m\n\u001b[1;32m      9\u001b[0m \u001b[0;31m#                 if ch1 in letters1:\u001b[0m\u001b[0;34m\u001b[0m\u001b[0;34m\u001b[0m\u001b[0;34m\u001b[0m\u001b[0m\n\u001b[1;32m     10\u001b[0m                 \u001b[0;32mif\u001b[0m \u001b[0mch0\u001b[0m \u001b[0;34m==\u001b[0m \u001b[0;32mNone\u001b[0m\u001b[0;34m:\u001b[0m\u001b[0;34m\u001b[0m\u001b[0;34m\u001b[0m\u001b[0m\n\u001b[0;32m---> 11\u001b[0;31m                     \u001b[0mupdate_pi\u001b[0m\u001b[0;34m(\u001b[0m\u001b[0mch1\u001b[0m\u001b[0;34m)\u001b[0m\u001b[0;34m\u001b[0m\u001b[0;34m\u001b[0m\u001b[0m\n\u001b[0m\u001b[1;32m     12\u001b[0m                 \u001b[0;32melse\u001b[0m\u001b[0;34m:\u001b[0m\u001b[0;34m\u001b[0m\u001b[0;34m\u001b[0m\u001b[0m\n\u001b[1;32m     13\u001b[0m                     \u001b[0mupdate_trasition\u001b[0m\u001b[0;34m(\u001b[0m\u001b[0mch0\u001b[0m\u001b[0;34m,\u001b[0m \u001b[0mch1\u001b[0m\u001b[0;34m)\u001b[0m\u001b[0;34m\u001b[0m\u001b[0;34m\u001b[0m\u001b[0m\n",
      "\u001b[0;32m/var/folders/dn/qw32n23j447c8wvwm7d77t400000gn/T/ipykernel_4078/1286432842.py\u001b[0m in \u001b[0;36mupdate_pi\u001b[0;34m(ch)\u001b[0m\n\u001b[1;32m      7\u001b[0m \u001b[0;32mdef\u001b[0m \u001b[0mupdate_pi\u001b[0m\u001b[0;34m(\u001b[0m\u001b[0mch\u001b[0m\u001b[0;34m)\u001b[0m\u001b[0;34m:\u001b[0m\u001b[0;34m\u001b[0m\u001b[0;34m\u001b[0m\u001b[0m\n\u001b[1;32m      8\u001b[0m     \u001b[0mi\u001b[0m \u001b[0;34m=\u001b[0m \u001b[0mord\u001b[0m\u001b[0;34m(\u001b[0m\u001b[0mch\u001b[0m\u001b[0;34m)\u001b[0m \u001b[0;34m-\u001b[0m \u001b[0mord\u001b[0m\u001b[0;34m(\u001b[0m\u001b[0;34m'a'\u001b[0m\u001b[0;34m)\u001b[0m\u001b[0;34m\u001b[0m\u001b[0;34m\u001b[0m\u001b[0m\n\u001b[0;32m----> 9\u001b[0;31m     \u001b[0mpi\u001b[0m\u001b[0;34m[\u001b[0m\u001b[0mi\u001b[0m\u001b[0;34m]\u001b[0m \u001b[0;34m+=\u001b[0m \u001b[0;36m1\u001b[0m\u001b[0;34m\u001b[0m\u001b[0;34m\u001b[0m\u001b[0m\n\u001b[0m",
      "\u001b[0;31mIndexError\u001b[0m: index 65182 is out of bounds for axis 0 with size 26"
     ]
    }
   ],
   "source": [
    "# Fill in unigrams and bigrams\n",
    "for line in open(\"moby_dick.txt\", \"r\"):\n",
    "    line = line.rstrip().lower()\n",
    "    if line:\n",
    "        line = line.translate(str.maketrans('', '', string.punctuation))\n",
    "        tokens = line.split()\n",
    "        for token in tokens:\n",
    "            ch0 = None\n",
    "            for ch1 in token:\n",
    "#                 if ch1 in letters1:\n",
    "                if ch0 == None:\n",
    "                    update_pi(ch1)\n",
    "                else:\n",
    "                    update_trasition(ch0, ch1)\n",
    "                ch0 = ch1"
   ]
  },
  {
   "cell_type": "code",
   "execution_count": null,
   "id": "24001be1",
   "metadata": {},
   "outputs": [],
   "source": [
    "# Normalize unigrams and bigrams\n",
    "pi /= pi.sum()\n",
    "M /= M.sum(axis=1, keepdims=True)"
   ]
  },
  {
   "cell_type": "code",
   "execution_count": null,
   "id": "e5b36af7",
   "metadata": {},
   "outputs": [],
   "source": [
    "# Function that returns the log likelihood of an input cipher\n",
    "def log_likelihood(message, cipher):\n",
    "    total_prob = 0\n",
    "    for line in message:\n",
    "        if line:\n",
    "            total_prob += get_sequence_prob(line)\n",
    "    return total_prob"
   ]
  },
  {
   "cell_type": "markdown",
   "id": "e1a4d53d",
   "metadata": {},
   "source": [
    "## Encoding & decoding functions ##"
   ]
  },
  {
   "cell_type": "code",
   "execution_count": null,
   "id": "25205e51",
   "metadata": {},
   "outputs": [],
   "source": [
    "def encode(msg):\n",
    "    encoded_msg = \"\"\n",
    "    for ch in msg.lower():\n",
    "        encoded_msg += true_mapping[ch] if ch in true_mapping else ch\n",
    "    return encoded_msg"
   ]
  },
  {
   "cell_type": "code",
   "execution_count": null,
   "id": "f6b2cc49",
   "metadata": {},
   "outputs": [],
   "source": [
    "def decode(msg, word_map):\n",
    "    decoded_msg = \"\"\n",
    "    for ch in msg:\n",
    "        decoded_msg += word_map[ch] if ch in word_map else ch\n",
    "    return decoded_msg"
   ]
  },
  {
   "cell_type": "markdown",
   "id": "43e495e4",
   "metadata": {},
   "source": [
    "## Genetic algorithm ##"
   ]
  },
  {
   "cell_type": "code",
   "execution_count": null,
   "id": "8974fbd3",
   "metadata": {},
   "outputs": [],
   "source": [
    "# Generates a given number of random ciphers\n",
    "def get_many_random_dna(num):\n",
    "    dna_pool = []\n",
    "    for _ in range(num):\n",
    "        dna = list(string.ascii_lowercase)\n",
    "        random.shuffle(dna)\n",
    "        dna_pool.append(dna)\n",
    "    return dna_pool"
   ]
  },
  {
   "cell_type": "code",
   "execution_count": null,
   "id": "b8f8bdf8",
   "metadata": {},
   "outputs": [],
   "source": [
    "# Appends a given number of offspring with different mutations to an existing pool of ciphers\n",
    "def create_offspring(dna_pool, num_offspring):\n",
    "    offspring = []\n",
    "    \n",
    "    for dna in dna_pool:\n",
    "        for _ in range(num_offspring):\n",
    "            copy = dna.copy()\n",
    "            j = np.random.randint(len(copy))\n",
    "            k = np.random.randint(len(copy))\n",
    "            \n",
    "            temp = copy[j]\n",
    "            copy[j] = copy[k]\n",
    "            copy[k] = temp\n",
    "            offspring.append(copy)\n",
    "\n",
    "    return offspring + dna_pool"
   ]
  },
  {
   "cell_type": "code",
   "execution_count": null,
   "id": "5b08cfa7",
   "metadata": {},
   "outputs": [],
   "source": [
    "def find_best_cipher(encoded_msg, num_iters):\n",
    "    dna_pool = get_many_random_dna(20)\n",
    "    scores = np.zeros(num_iters)\n",
    "    best_dna = None\n",
    "    best_map = None\n",
    "    best_score = float(\"-inf\")\n",
    "    for i in range(num_iters):\n",
    "        if i > 0:\n",
    "            dna_pool = create_offspring(dna_pool, 3)\n",
    "\n",
    "        dna2score = {}\n",
    "        for dna in dna_pool:\n",
    "            current_map = {}\n",
    "            for k, v in zip(letters1, dna):\n",
    "                current_map[k] = v\n",
    "            \n",
    "            decoded_msg = decode(encoded_msg, current_map)\n",
    "            score = get_sequence_prob(decoded_msg)\n",
    "            \n",
    "            dna2score[''.join(dna)] = score\n",
    "            \n",
    "            if score > best_score:\n",
    "                best_dna = dna\n",
    "                best_map = current_map\n",
    "                best_score = score\n",
    "        \n",
    "        scores[i] = np.mean(list(dna2score.values()))\n",
    "        \n",
    "        sorted_dna = sorted(dna2score.items(), key=lambda x: x[1], reverse=True)\n",
    "        dna_pool = [list(k) for k, v in sorted_dna[:5]]\n",
    "        \n",
    "        if i % 200 == 0:\n",
    "            print(\"iter:\", i, \"score:\", scores[i], \"best so far:\", best_score)\n",
    "    return best_map"
   ]
  },
  {
   "cell_type": "markdown",
   "id": "4cdee9d0",
   "metadata": {},
   "source": [
    "## Test predicted cipher ##"
   ]
  },
  {
   "cell_type": "code",
   "execution_count": null,
   "id": "36a7b99c",
   "metadata": {},
   "outputs": [],
   "source": [
    "print(original_message)"
   ]
  },
  {
   "cell_type": "code",
   "execution_count": null,
   "id": "f8d29f3d",
   "metadata": {},
   "outputs": [],
   "source": [
    "encoded_msg = encode(original_message)\n",
    "print(encoded_msg)"
   ]
  },
  {
   "cell_type": "code",
   "execution_count": null,
   "id": "6d65c836",
   "metadata": {},
   "outputs": [],
   "source": [
    "predicted_cipher = find_best_cipher(encoded_msg, 1000)"
   ]
  },
  {
   "cell_type": "code",
   "execution_count": null,
   "id": "b0287930",
   "metadata": {},
   "outputs": [],
   "source": [
    "decoded_msg = decode(encoded_msg, predicted_cipher)\n",
    "print(decoded_msg)"
   ]
  },
  {
   "cell_type": "code",
   "execution_count": null,
   "id": "17aed5b4",
   "metadata": {},
   "outputs": [],
   "source": []
  }
 ],
 "metadata": {
  "kernelspec": {
   "display_name": "Python 3 (ipykernel)",
   "language": "python",
   "name": "python3"
  },
  "language_info": {
   "codemirror_mode": {
    "name": "ipython",
    "version": 3
   },
   "file_extension": ".py",
   "mimetype": "text/x-python",
   "name": "python",
   "nbconvert_exporter": "python",
   "pygments_lexer": "ipython3",
   "version": "3.8.8"
  }
 },
 "nbformat": 4,
 "nbformat_minor": 5
}
